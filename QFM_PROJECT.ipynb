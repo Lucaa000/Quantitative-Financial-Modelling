{
 "cells": [
  {
   "cell_type": "code",
   "execution_count": 1,
   "id": "e1554313",
   "metadata": {},
   "outputs": [
    {
     "name": "stdout",
     "output_type": "stream",
     "text": [
      "Call option price: 65.79793392962759\n",
      "Put option price: 30.116825400648523\n"
     ]
    }
   ],
   "source": [
    "import numpy as np\n",
    "import math\n",
    "from datetime import datetime\n",
    "def jarrow_rudd_option_pricing(S, K, r, sigma, T, N):\n",
    "\n",
    "    dt = T / N                                                                 #dt is the interval of time steps\n",
    "    u = math.exp((r - sigma**2/2) *dt + sigma * math.sqrt(dt))\n",
    "    d = math.exp((r - sigma**2/2) *dt - sigma * math.sqrt(dt))\n",
    "    p = (1+(r * dt) - d) / (u - d)                                             #risk neutral probability\n",
    "    \n",
    "    option_values = [[0 for j in range(i + 1)] for i in range(N + 1)]         # this line construct an array with all 0\n",
    "\n",
    "    # Calculate option values at expiration\n",
    "    for j in range(N + 1):                                                   # loop iterations, option value at each node\n",
    "        option_values[N][j] = max(S * (u ** j) * (d ** (N - j)) - K, 0)      #j is the number of steps, I calculate the value of the option at each node, approach with risk neutral\n",
    "\n",
    "    # Backward iteration to calculate option values at previous nodes\n",
    "    for i in range(N - 1, -1, -1):                                           # start from the last value and go backwards, the other minus 1 means get to the last value of i and j\n",
    "        for j in range(i + 1):                                               # write 2 parameters up and down\n",
    "            option_values[i][j] = (p * option_values[i + 1][j + 1] + (1 - p) * option_values[i + 1][j]) / math.exp(r * dt)    # here builds the tree, i and j are the various directions in which the tree can go\n",
    "    \n",
    "    call_price = option_values[0][0]                                         # value of the discounted option\n",
    "    put_price = call_price + K * math.exp(-r * T) - S  # Put-Call Parity\n",
    "    \n",
    "    return call_price, put_price\n",
    "\n",
    "date_format = \"%m/%d/%Y\"\n",
    "\n",
    "a = datetime.strptime('01/21/2022', date_format)   #start date\n",
    "b = datetime.strptime('01/19/2024', date_format)   #expiration date\n",
    "\n",
    "delta = (b - a)\n",
    "\n",
    "# Example of pricing with akamai stock\n",
    "S = 89.06       # Stock price\n",
    "K = 55         # Strike price\n",
    "T = float(delta.days/365)   # Time to expiration (years)\n",
    "r = 0.015       # Risk-free interest rate\n",
    "sigma = 1.3439  # Volatility\n",
    "N = 100         # Number of time steps\n",
    "\n",
    "call_price, put_price = jarrow_rudd_option_pricing(S, K, r, sigma, T, N)\n",
    "print(\"Call option price:\", call_price)\n",
    "print(\"Put option price:\", put_price)\n"
   ]
  },
  {
   "cell_type": "code",
   "execution_count": 2,
   "id": "0da16532",
   "metadata": {},
   "outputs": [
    {
     "name": "stdout",
     "output_type": "stream",
     "text": [
      "Call option price: 68.40484339932983\n",
      "Put option price: 32.72413336698879\n"
     ]
    }
   ],
   "source": [
    "def crr_option_pricing(S, K, T, r, sigma, n_steps, option_type):\n",
    "    dt = T / n_steps\n",
    "    u = np.exp(sigma * np.sqrt(dt))\n",
    "    d = 1 / u\n",
    "    p = (1+(r * dt) - d) / (u - d)\n",
    "\n",
    "    stock_tree = np.zeros((n_steps + 1, n_steps + 1))\n",
    "    for i in range(n_steps + 1):\n",
    "        for j in range(i + 1):\n",
    "            stock_tree[j, i] = S * (u ** (i - j)) * (d ** j)\n",
    "\n",
    "    option_tree = np.zeros((n_steps + 1, n_steps + 1))                        # create an array of all 0 rows n_steps + 1, same as the columns\n",
    "\n",
    "    if option_type == 'call':\n",
    "        option_tree[:, n_steps] = np.maximum(0, stock_tree[:, n_steps] - K)   # select the column N_steps and take of this all rows\n",
    "    elif option_type == 'put':\n",
    "        option_tree[:, n_steps] = np.maximum(0, K - stock_tree[:, n_steps])\n",
    "    else:\n",
    "        raise ValueError(\"Invalid option type. Please choose 'call' or 'put'.\")\n",
    "\n",
    "    for i in range(n_steps - 1, -1, -1):\n",
    "        for j in range(i + 1):\n",
    "            option_tree[j, i] = np.exp(-r * dt) * (p * option_tree[j, i + 1] + (1 - p) * option_tree[j + 1, i + 1])\n",
    "\n",
    "    return option_tree[0, 0]\n",
    "\n",
    "date_format = \"%m/%d/%Y\"\n",
    "\n",
    "a = datetime.strptime('01/21/2022', date_format)   #start date\n",
    "b = datetime.strptime('01/19/2024', date_format)   #expiration date\n",
    "\n",
    "delta = (b - a)\n",
    "\n",
    "# Example of pricing\n",
    "S = 89.06          # Stock price\n",
    "K = 55          # Strike price\n",
    "T = float(delta.days/365)   # Time to expiration (years)\n",
    "r = 0.015       # Risk-free interest rate\n",
    "sigma = 1.4548   # Volatility\n",
    "n_steps = 100   # Number of steps in the binomial tree\n",
    "\n",
    "call_option_price = crr_option_pricing(S, K, T, r, sigma, n_steps, 'call')\n",
    "put_option_price = crr_option_pricing(S, K, T, r, sigma, n_steps, 'put')\n",
    "   \n",
    "print(f\"Call option price: {call_option_price}\")      # f allows me to write both text and a variable\n",
    "print(f\"Put option price: {put_option_price}\")    "
   ]
  }
 ],
 "metadata": {
  "kernelspec": {
   "display_name": "Python 3 (ipykernel)",
   "language": "python",
   "name": "python3"
  },
  "language_info": {
   "codemirror_mode": {
    "name": "ipython",
    "version": 3
   },
   "file_extension": ".py",
   "mimetype": "text/x-python",
   "name": "python",
   "nbconvert_exporter": "python",
   "pygments_lexer": "ipython3",
   "version": "3.9.13"
  }
 },
 "nbformat": 4,
 "nbformat_minor": 5
}
